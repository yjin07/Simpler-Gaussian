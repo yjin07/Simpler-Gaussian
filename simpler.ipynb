{
 "cells": [
  {
   "cell_type": "markdown",
   "metadata": {},
   "source": [
    "# Functions"
   ]
  },
  {
   "cell_type": "code",
   "execution_count": 11,
   "metadata": {},
   "outputs": [],
   "source": [
    "import numpy as np\n",
    "from scipy import linalg\n",
    "import time\n",
    "import matplotlib\n",
    "import matplotlib.pyplot as plt\n",
    "from tqdm.notebook import tqdm\n",
    "from time import sleep"
   ]
  },
  {
   "cell_type": "code",
   "execution_count": 25,
   "metadata": {},
   "outputs": [],
   "source": [
    "from scipy.linalg import cossin\n",
    "from scipy.linalg import expm\n",
    "from scipy.special import comb\n",
    "import matplotlib.pyplot as plt\n",
    "import scipy\n",
    "import random\n",
    "from itertools import combinations\n",
    "from scipy.stats import ortho_group"
   ]
  },
  {
   "cell_type": "code",
   "execution_count": 13,
   "metadata": {},
   "outputs": [],
   "source": [
    "class Recursive_FM:\n",
    "    def __init__(self, dimension1, dimension2, Vlist, length):\n",
    "        self._k = dimension1\n",
    "        self._n = dimension2\n",
    "        self._Vlist = Vlist\n",
    "        self._len = length\n",
    "        \n",
    "    def getTrans(self,k,n):\n",
    "        A = np.eye(n)\n",
    "        B = np.eye(n)\n",
    "        for i in range(k):\n",
    "            B[k+i,] = A[n-k+i,]\n",
    "            B[n-k+i,] = A[k+i,]\n",
    "        return B\n",
    "    \n",
    "    def csDecomp(self,S, k):\n",
    "        u,cs,vdh = cossin(S, p = k, q = k, swap_sign = True)\n",
    "        n = S.shape[0]\n",
    "        T = self.getTrans(k,n)\n",
    "        u = u@T\n",
    "        cs = T@cs@T\n",
    "        vdh = T@vdh\n",
    "        return u,cs,vdh\n",
    "        \n",
    "    def geodesic(self,X,Y,t):\n",
    "        U,CS,VDH = self.csDecomp(X.T.dot(Y), self._k)\n",
    "        Theta = np.diag(np.arccos(np.diag(CS[:self._k,:self._k])))\n",
    "        UU = U[:self._k, :self._k]\n",
    "        VV = U[self._k:,self._k:]\n",
    "        B = -2*UU@np.block([Theta, np.zeros((self._k, self._n - 2*self._k))])@VV.T\n",
    "        Z = X@expm(t/2*np.block([[np.zeros((self._k,self._k)),-B],[B.T,np.zeros((self._n-self._k,self._n-self._k))]]))\n",
    "        return Z\n",
    "       \n",
    "    def iFM(self):\n",
    "        mean = self._Vlist[0]\n",
    "        for i in range(self._len - 1):\n",
    "            mean = self.geodesic(mean, self._Vlist[i+1], 1/(i+2))\n",
    "        return mean"
   ]
  },
  {
   "cell_type": "markdown",
   "metadata": {},
   "source": [
    "# Simulations "
   ]
  },
  {
   "cell_type": "markdown",
   "metadata": {},
   "source": [
    "Below are two distribution on $O(n)$"
   ]
  },
  {
   "cell_type": "code",
   "execution_count": 14,
   "metadata": {},
   "outputs": [],
   "source": [
    "def Haar(dimension):\n",
    "    a = np.random.randn(dimension,dimension)\n",
    "    q, r = linalg.qr(a)\n",
    "    q = q @ np.diag(np.sign(np.diag(r)))\n",
    "    return q     \n",
    "\n",
    "# ## Built-in function for Haar distribution on O(n)\n",
    "# from scipy.stats import ortho_group\n",
    "# x = ortho_group.rvs(3)\n",
    "\n",
    "def log_normal(dimension, mu, sigma):\n",
    "    assert(np.linalg.norm(mu@mu.T - np.eye(n)) < 1e-5)\n",
    "    v = sigma/np.sqrt(2) * np.random.standard_normal(size = (dimension,dimension))\n",
    "    Z = (v - v.T)/2\n",
    "    return mu@scipy.linalg.expm(Z)"
   ]
  },
  {
   "cell_type": "markdown",
   "metadata": {},
   "source": [
    "## On Haar distribution"
   ]
  },
  {
   "cell_type": "markdown",
   "metadata": {},
   "source": [
    "Functions that are needed"
   ]
  },
  {
   "cell_type": "code",
   "execution_count": 15,
   "metadata": {},
   "outputs": [],
   "source": [
    "def Est(k,n,m):\n",
    "    Vlist = []\n",
    "    for i in range(m):\n",
    "        V0 = Haar(n)\n",
    "        Vlist.append(V0)\n",
    "    \n",
    "    result = Recursive_FM(k,n,Vlist,m)\n",
    "    return result.iFM()\n",
    "\n",
    "def getTrans(k,n):\n",
    "    A = np.eye(n)\n",
    "    B = np.eye(n)\n",
    "    for i in range(k):\n",
    "        B[k+i,] = A[n-k+i,]\n",
    "        B[n-k+i,] = A[k+i,]\n",
    "    return B\n",
    "\n",
    "\n",
    "def csDecomp(S, k):\n",
    "    u,cs,vdh = cossin(S, p = k, q = k, swap_sign = True)\n",
    "    n = S.shape[0]\n",
    "    T = getTrans(k,n)\n",
    "    u = u@T\n",
    "    cs = T@cs@T\n",
    "    vdh = T@vdh\n",
    "    return u,cs,vdh\n",
    "\n",
    "def geodesicDistance(X,Y,k):\n",
    "    u,cs,vdh = csDecomp(X.T.dot(Y),k)\n",
    "    return np.linalg.norm(np.arccos(np.diag(cs[:k,:k])))"
   ]
  },
  {
   "cell_type": "markdown",
   "metadata": {},
   "source": [
    "Parameters setup"
   ]
  },
  {
   "cell_type": "code",
   "execution_count": 16,
   "metadata": {},
   "outputs": [],
   "source": [
    "k = 2\n",
    "n = 9\n",
    "m = 100\n",
    "\n",
    "# Vlist = []\n",
    "# Qlist = []\n",
    "\n",
    "I_ = np.block([[np.eye(k), np.zeros((k, n-k))],\n",
    "                       [np.zeros((n-k, k)),-np.eye(n-k)]])\n",
    "I = np.eye(n)\n",
    "\n",
    "# for i in range(m):\n",
    "#     V0 = random_orthogonal(n)\n",
    "#     Vlist.append(V0)\n",
    "#     Q0 = V0.dot(I_).dot(V0.T)\n",
    "#     Qlist.append(Q0)\n",
    "\n",
    "# result = Recursive_FM(k,n,Vlist,m)\n",
    "# AA = result.iFM()"
   ]
  },
  {
   "cell_type": "markdown",
   "metadata": {},
   "source": [
    "Case 1 "
   ]
  },
  {
   "cell_type": "markdown",
   "metadata": {},
   "source": [
    "x1 = [100,200,500,1000,2000,5000]\n",
    "y1 = [0,0,0,0,0,0]\n",
    "\n",
    "for j in range(6):\n",
    "    ds = Est(k,n,x1[j])\n",
    "    y1[j] = geodesicDistance(I, ds, k)\n",
    "    \n",
    "print(x1)\n",
    "print(y1)\n",
    "plt.plot(x1,y1)\n",
    "plt.show()"
   ]
  },
  {
   "cell_type": "markdown",
   "metadata": {},
   "source": [
    "Case 2"
   ]
  },
  {
   "cell_type": "markdown",
   "metadata": {},
   "source": [
    "x = np.arange(100,10000,100)\n",
    "y = np.zeros_like(x,dtype=float)\n",
    "for j in range(x.shape[0]):\n",
    "    ds = Est(k,n,x[j])\n",
    "    y[j] = geodesicDistance(I, ds, k)\n",
    "    \n",
    "print(x)\n",
    "print(y)\n",
    "\n",
    "plt.plot(x,y)\n",
    "plt.show()"
   ]
  },
  {
   "cell_type": "markdown",
   "metadata": {},
   "source": [
    "Case 3 "
   ]
  },
  {
   "cell_type": "code",
   "execution_count": 8,
   "metadata": {},
   "outputs": [
    {
     "data": {
      "application/vnd.jupyter.widget-view+json": {
       "model_id": "b5ffa58f32fe4ba986b6db7eb7af52ab",
       "version_major": 2,
       "version_minor": 0
      },
      "text/plain": [
       "  0%|          | 0/1000 [00:00<?, ?it/s]"
      ]
     },
     "metadata": {},
     "output_type": "display_data"
    },
    {
     "data": {
      "application/vnd.jupyter.widget-view+json": {
       "model_id": "0fb3bca1ade348be82010b0f4a737096",
       "version_major": 2,
       "version_minor": 0
      },
      "text/plain": [
       "  0%|          | 0/1000 [00:00<?, ?it/s]"
      ]
     },
     "metadata": {},
     "output_type": "display_data"
    },
    {
     "data": {
      "application/vnd.jupyter.widget-view+json": {
       "model_id": "28067368ca2f412a954c11bf5ed21a89",
       "version_major": 2,
       "version_minor": 0
      },
      "text/plain": [
       "  0%|          | 0/1000 [00:00<?, ?it/s]"
      ]
     },
     "metadata": {},
     "output_type": "display_data"
    },
    {
     "data": {
      "application/vnd.jupyter.widget-view+json": {
       "model_id": "692f9c9d356b4e6b8345021adb5af41e",
       "version_major": 2,
       "version_minor": 0
      },
      "text/plain": [
       "  0%|          | 0/1000 [00:00<?, ?it/s]"
      ]
     },
     "metadata": {},
     "output_type": "display_data"
    },
    {
     "data": {
      "application/vnd.jupyter.widget-view+json": {
       "model_id": "a4b8710f842044c1802ee104a4d1447c",
       "version_major": 2,
       "version_minor": 0
      },
      "text/plain": [
       "  0%|          | 0/1000 [00:00<?, ?it/s]"
      ]
     },
     "metadata": {},
     "output_type": "display_data"
    },
    {
     "data": {
      "application/vnd.jupyter.widget-view+json": {
       "model_id": "3c812eeb6bfb4e6494080701984a5b25",
       "version_major": 2,
       "version_minor": 0
      },
      "text/plain": [
       "  0%|          | 0/1000 [00:00<?, ?it/s]"
      ]
     },
     "metadata": {},
     "output_type": "display_data"
    },
    {
     "data": {
      "application/vnd.jupyter.widget-view+json": {
       "model_id": "a1a56e74c44f4c20bc35a6101c0b3ab7",
       "version_major": 2,
       "version_minor": 0
      },
      "text/plain": [
       "  0%|          | 0/1000 [00:00<?, ?it/s]"
      ]
     },
     "metadata": {},
     "output_type": "display_data"
    },
    {
     "data": {
      "application/vnd.jupyter.widget-view+json": {
       "model_id": "9d7803f650b349b198e1c2faf8a0dbd5",
       "version_major": 2,
       "version_minor": 0
      },
      "text/plain": [
       "  0%|          | 0/1000 [00:00<?, ?it/s]"
      ]
     },
     "metadata": {},
     "output_type": "display_data"
    },
    {
     "name": "stdout",
     "output_type": "stream",
     "text": [
      "[ 100  200  500  800 1000 2000 3500 5000]\n",
      "[1.65633565 1.64867881 1.6487843  1.65979476 1.64849907 1.65162363\n",
      " 1.65160044 1.66076002]\n"
     ]
    },
    {
     "data": {
      "image/png": "[encoded data removed]",
      "text/plain": [
       "<Figure size 432x288 with 1 Axes>"
      ]
     },
     "metadata": {
      "needs_background": "light"
     },
     "output_type": "display_data"
    }
   ],
   "source": [
    "x1 = np.array([100,200,500,800,1000,2000,3500,5000])\n",
    "y1 = np.zeros_like(x1,dtype=float)\n",
    "\n",
    "for j in range(x1.shape[0]):\n",
    "    z1 = np.zeros(1000, dtype = float)\n",
    "    for i in tqdm(range(1000)):\n",
    "        ds = Est(k,n,x1[j])\n",
    "        z1[i] = geodesicDistance(I, ds, k)\n",
    "    y1[j] = np.mean(z1)\n",
    "    \n",
    "print(x1)\n",
    "print(y1)\n",
    "plt.plot(x1,y1)\n",
    "plt.show()"
   ]
  },
  {
   "cell_type": "markdown",
   "metadata": {},
   "source": [
    "## On log-normal distribution "
   ]
  },
  {
   "cell_type": "markdown",
   "metadata": {},
   "source": [
    "Samples generation function"
   ]
  },
  {
   "cell_type": "code",
   "execution_count": 8,
   "metadata": {},
   "outputs": [],
   "source": [
    "def Est_ln(k,n,m,mu,sigma):\n",
    "    Vlist = []\n",
    "    for i in range(m):\n",
    "        V0 = log_normal(n, mu, sigma)\n",
    "        Vlist.append(V0)\n",
    "    \n",
    "    result = Recursive_FM(k,n,Vlist,m)\n",
    "    return result.iFM()"
   ]
  },
  {
   "cell_type": "markdown",
   "metadata": {},
   "source": [
    "Parameter Setup"
   ]
  },
  {
   "cell_type": "code",
   "execution_count": 8,
   "metadata": {},
   "outputs": [],
   "source": [
    "k = 2\n",
    "n = 9\n",
    "mu = np.eye(n)\n",
    "sigma = 1.0"
   ]
  },
  {
   "cell_type": "markdown",
   "metadata": {},
   "source": [
    "Case 1 "
   ]
  },
  {
   "cell_type": "markdown",
   "metadata": {},
   "source": [
    "x1 = [100,200,500,1000,2000,5000]\n",
    "y1 = [0,0,0,0,0,0]\n",
    "\n",
    "for j in range(6):\n",
    "    ds = Est_ln(k,n,x1[j],mu,sigma)\n",
    "    y1[j] = geodesicDistance(I, ds, k)\n",
    "    \n",
    "print(x1)\n",
    "print(y1)\n",
    "plt.plot(x1,y1)\n",
    "plt.show()"
   ]
  },
  {
   "cell_type": "markdown",
   "metadata": {},
   "source": [
    "Case 2"
   ]
  },
  {
   "cell_type": "markdown",
   "metadata": {},
   "source": [
    "x = np.arange(100,10000,100)\n",
    "y = np.zeros_like(x,dtype=float)\n",
    "for j in range(x.shape[0]):\n",
    "    ds = Est_ln(k,n,x[j], mu, sigma)\n",
    "    y[j] = geodesicDistance(I, ds, k)\n",
    "    \n",
    "print(x)\n",
    "print(y)\n",
    "\n",
    "plt.plot(x,y)\n",
    "plt.show()"
   ]
  },
  {
   "cell_type": "markdown",
   "metadata": {},
   "source": [
    "Case 3 "
   ]
  },
  {
   "cell_type": "code",
   "execution_count": 11,
   "metadata": {},
   "outputs": [
    {
     "data": {
      "application/vnd.jupyter.widget-view+json": {
       "model_id": "4f3b72ce54e84a19b9f02caa9605cf36",
       "version_major": 2,
       "version_minor": 0
      },
      "text/plain": [
       "  0%|          | 0/1000 [00:00<?, ?it/s]"
      ]
     },
     "metadata": {},
     "output_type": "display_data"
    },
    {
     "data": {
      "application/vnd.jupyter.widget-view+json": {
       "model_id": "818b6a7183ef4777ab3efe2315b9c4ea",
       "version_major": 2,
       "version_minor": 0
      },
      "text/plain": [
       "  0%|          | 0/1000 [00:00<?, ?it/s]"
      ]
     },
     "metadata": {},
     "output_type": "display_data"
    },
    {
     "data": {
      "application/vnd.jupyter.widget-view+json": {
       "model_id": "6eb68be1202e432a88bf60d39849b508",
       "version_major": 2,
       "version_minor": 0
      },
      "text/plain": [
       "  0%|          | 0/1000 [00:00<?, ?it/s]"
      ]
     },
     "metadata": {},
     "output_type": "display_data"
    },
    {
     "data": {
      "application/vnd.jupyter.widget-view+json": {
       "model_id": "805f54ceb2fc412399b40670b1167320",
       "version_major": 2,
       "version_minor": 0
      },
      "text/plain": [
       "  0%|          | 0/1000 [00:00<?, ?it/s]"
      ]
     },
     "metadata": {},
     "output_type": "display_data"
    },
    {
     "data": {
      "application/vnd.jupyter.widget-view+json": {
       "model_id": "34ca31453a6a4e9da0993ad589d53d79",
       "version_major": 2,
       "version_minor": 0
      },
      "text/plain": [
       "  0%|          | 0/1000 [00:00<?, ?it/s]"
      ]
     },
     "metadata": {},
     "output_type": "display_data"
    },
    {
     "data": {
      "application/vnd.jupyter.widget-view+json": {
       "model_id": "ad46d751aaf74b5eb7025ff0afde0452",
       "version_major": 2,
       "version_minor": 0
      },
      "text/plain": [
       "  0%|          | 0/1000 [00:00<?, ?it/s]"
      ]
     },
     "metadata": {},
     "output_type": "display_data"
    },
    {
     "data": {
      "application/vnd.jupyter.widget-view+json": {
       "model_id": "e3a70f5eac944afeb44e13cf6c9a306c",
       "version_major": 2,
       "version_minor": 0
      },
      "text/plain": [
       "  0%|          | 0/1000 [00:00<?, ?it/s]"
      ]
     },
     "metadata": {},
     "output_type": "display_data"
    },
    {
     "data": {
      "application/vnd.jupyter.widget-view+json": {
       "model_id": "6d485a8432254f75bcd7175ff38428b2",
       "version_major": 2,
       "version_minor": 0
      },
      "text/plain": [
       "  0%|          | 0/1000 [00:00<?, ?it/s]"
      ]
     },
     "metadata": {},
     "output_type": "display_data"
    },
    {
     "name": "stdout",
     "output_type": "stream",
     "text": [
      "[ 100  200  500  800 1000 2000 3500 5000]\n",
      "[1.325717   1.29035731 1.19440946 1.13872498 1.13719517 1.09460504\n",
      " 1.04036882 1.01911698]\n"
     ]
    },
    {
     "data": {
      "image/png": "[encoded data removed]",
      "text/plain": [
       "<Figure size 432x288 with 1 Axes>"
      ]
     },
     "metadata": {
      "needs_background": "light"
     },
     "output_type": "display_data"
    }
   ],
   "source": [
    "x1 = np.array([100,200,500,800,1000,2000,3500,5000])\n",
    "y1 = np.zeros_like(x1,dtype=float)\n",
    "\n",
    "for j in range(x1.shape[0]):\n",
    "    z1 = np.zeros(1000, dtype = float)\n",
    "    for i in tqdm(range(1000)):\n",
    "        ds = Est_ln(k,n,x1[j],mu, sigma)\n",
    "        z1[i] = geodesicDistance(I, ds, k)\n",
    "    y1[j] = np.mean(z1)\n",
    "    \n",
    "print(x1)\n",
    "print(y1)\n",
    "plt.plot(x1,y1)\n",
    "plt.show()"
   ]
  },
  {
   "cell_type": "markdown",
   "metadata": {},
   "source": [
    "Extremee Case "
   ]
  },
  {
   "cell_type": "markdown",
   "metadata": {},
   "source": [
    "x = np.arange(100,20000,100)\n",
    "y = np.zeros_like(x,dtype=float)\n",
    "for j in range(x.shape[0]):\n",
    "    ds = Est_ln(k,n,x[j], mu, sigma)\n",
    "    y[j] = geodesicDistance(I, ds, k)\n",
    "    \n",
    "print(x)\n",
    "print(y)\n",
    "\n",
    "plt.plot(x,y)\n",
    "plt.show()"
   ]
  },
  {
   "cell_type": "markdown",
   "metadata": {},
   "source": [
    "Ordering matters!!!"
   ]
  },
  {
   "cell_type": "code",
   "execution_count": 12,
   "metadata": {},
   "outputs": [
    {
     "name": "stdout",
     "output_type": "stream",
     "text": [
      "[[ 0.42572538  0.28017504 -0.08953948 -0.25428546  0.21856909  0.47602587\n",
      "  -0.37610724 -0.28095029  0.41571462]\n",
      " [ 0.45645878  0.2060428  -0.00273859  0.24379068 -0.45346856 -0.35173929\n",
      "   0.23790939 -0.55053481  0.02658269]\n",
      " [-0.33551113  0.13048208  0.63721037  0.07871727  0.00154814 -0.28034885\n",
      "  -0.55395429 -0.25496441  0.08776768]\n",
      " [-0.26382607 -0.09575009  0.39562212 -0.14386476 -0.38201681  0.39410532\n",
      "   0.46274448 -0.03438763  0.47690984]\n",
      " [ 0.06862799  0.55610425  0.16187933 -0.65472261  0.03701637 -0.33340007\n",
      "   0.22422581  0.25001721 -0.07655076]\n",
      " [-0.08050841  0.36736256 -0.25597369  0.21334266 -0.60543104  0.06620828\n",
      "  -0.35903237  0.47490406  0.14885273]\n",
      " [-0.54555239  0.04969318 -0.4788403  -0.37124072 -0.20629045  0.05048269\n",
      "  -0.083199   -0.50219274 -0.16903137]\n",
      " [ 0.2494347  -0.10387039  0.32250433 -0.19273319 -0.33932643  0.42385777\n",
      "  -0.15169443 -0.00890466 -0.68406857]\n",
      " [ 0.23915452 -0.62879966 -0.06630797 -0.4470671  -0.27393331 -0.3435423\n",
      "  -0.26801106  0.10709663  0.25843758]]\n",
      "\n",
      "\n",
      "[[ 0.17219959  0.33476602  0.3907218  -0.74441179 -0.07142172 -0.20458204\n",
      "  -0.23848094 -0.0155935   0.21770483]\n",
      " [-0.44663371  0.31497299 -0.01245787  0.13586597 -0.16578289 -0.03526527\n",
      "  -0.27522903 -0.75538326 -0.08725304]\n",
      " [ 0.41239344 -0.15699541 -0.2365005  -0.20437184  0.45663324  0.36547758\n",
      "  -0.41921938 -0.26692723 -0.34423966]\n",
      " [-0.45771113 -0.27782584 -0.34639011 -0.29794857  0.05044442  0.36350657\n",
      "  -0.15658168  0.06849939  0.58366276]\n",
      " [ 0.18832796 -0.2862683   0.24718659 -0.21062516 -0.32745768  0.4386359\n",
      "   0.5478359  -0.42114159  0.00211592]\n",
      " [ 0.16954405  0.54573761  0.05368624  0.24669219 -0.28998913  0.64210892\n",
      "  -0.1886584   0.2623115   0.09428231]\n",
      " [-0.18067305  0.53453957 -0.30792397 -0.25012685  0.42009799  0.09032015\n",
      "   0.56598337  0.00319735 -0.13876827]\n",
      " [-0.06503291 -0.03744633 -0.49714761 -0.33667838 -0.60556655 -0.07667689\n",
      "  -0.06001875  0.1834994  -0.47328209]\n",
      " [ 0.53871437  0.14133333 -0.51507896  0.12535774 -0.14778707 -0.26916403\n",
      "   0.08635698 -0.27085209  0.48340682]]\n",
      "\n",
      "\n",
      "2.0157530928811727\n"
     ]
    }
   ],
   "source": [
    "k = 2\n",
    "n = 9\n",
    "m = 10000\n",
    "\n",
    "Vlist = []\n",
    "for i in range(m):\n",
    "    V0 = Haar(n)\n",
    "    Vlist.append(V0)\n",
    "\n",
    "V1 = Vlist.copy()\n",
    "result = Recursive_FM(k,n,V1,m)   \n",
    "random.shuffle(Vlist)\n",
    "V2 = Vlist.copy()\n",
    "result2 = Recursive_FM(k,n,V2,m)\n",
    "a1 = result.iFM()\n",
    "a2 = result2.iFM()\n",
    "\n",
    "print(a1)\n",
    "print('\\n')\n",
    "print(a2)\n",
    "print('\\n')\n",
    "print(geodesicDistance(a1, a2, k))"
   ]
  },
  {
   "cell_type": "markdown",
   "metadata": {},
   "source": [
    "## Replicate"
   ]
  },
  {
   "cell_type": "code",
   "execution_count": 33,
   "metadata": {},
   "outputs": [
    {
     "data": {
      "application/vnd.jupyter.widget-view+json": {
       "model_id": "afd8d7cbe1324db3a01a6e443b67b191",
       "version_major": 2,
       "version_minor": 0
      },
      "text/plain": [
       "  0%|          | 0/1000 [00:00<?, ?it/s]"
      ]
     },
     "metadata": {},
     "output_type": "display_data"
    },
    {
     "data": {
      "application/vnd.jupyter.widget-view+json": {
       "model_id": "af405f23e3e74ab98d8f40097d6e819d",
       "version_major": 2,
       "version_minor": 0
      },
      "text/plain": [
       "  0%|          | 0/1000 [00:00<?, ?it/s]"
      ]
     },
     "metadata": {},
     "output_type": "display_data"
    },
    {
     "data": {
      "application/vnd.jupyter.widget-view+json": {
       "model_id": "ff7b5861ff62481091f375aafc375deb",
       "version_major": 2,
       "version_minor": 0
      },
      "text/plain": [
       "  0%|          | 0/1000 [00:00<?, ?it/s]"
      ]
     },
     "metadata": {},
     "output_type": "display_data"
    },
    {
     "data": {
      "application/vnd.jupyter.widget-view+json": {
       "model_id": "9ea6d35eab654da99166ed84f897adb9",
       "version_major": 2,
       "version_minor": 0
      },
      "text/plain": [
       "  0%|          | 0/1000 [00:00<?, ?it/s]"
      ]
     },
     "metadata": {},
     "output_type": "display_data"
    },
    {
     "data": {
      "application/vnd.jupyter.widget-view+json": {
       "model_id": "7dc7488ca0be4956b7e94206afa21786",
       "version_major": 2,
       "version_minor": 0
      },
      "text/plain": [
       "  0%|          | 0/1000 [00:00<?, ?it/s]"
      ]
     },
     "metadata": {},
     "output_type": "display_data"
    },
    {
     "data": {
      "application/vnd.jupyter.widget-view+json": {
       "model_id": "63b0815f06af4aac94490036a0dc544f",
       "version_major": 2,
       "version_minor": 0
      },
      "text/plain": [
       "  0%|          | 0/1000 [00:00<?, ?it/s]"
      ]
     },
     "metadata": {},
     "output_type": "display_data"
    },
    {
     "data": {
      "application/vnd.jupyter.widget-view+json": {
       "model_id": "e61f046f0aaa417784a0bcab86cada79",
       "version_major": 2,
       "version_minor": 0
      },
      "text/plain": [
       "  0%|          | 0/1000 [00:00<?, ?it/s]"
      ]
     },
     "metadata": {},
     "output_type": "display_data"
    },
    {
     "data": {
      "application/vnd.jupyter.widget-view+json": {
       "model_id": "1ac7ad9533e74502a46eac2150be120c",
       "version_major": 2,
       "version_minor": 0
      },
      "text/plain": [
       "  0%|          | 0/1000 [00:00<?, ?it/s]"
      ]
     },
     "metadata": {},
     "output_type": "display_data"
    },
    {
     "name": "stdout",
     "output_type": "stream",
     "text": [
      "[ 100  200  500  800 1000 2000 3500 5000]\n",
      "[1.64848103 1.65900401 1.65957564 1.65929413 1.66050472 1.64902492\n",
      " 1.65237526 1.65805085]\n"
     ]
    },
    {
     "data": {
      "image/png": "[encoded data removed]",
      "text/plain": [
       "<Figure size 432x288 with 1 Axes>"
      ]
     },
     "metadata": {
      "needs_background": "light"
     },
     "output_type": "display_data"
    }
   ],
   "source": [
    "x1 = np.array([100,200,500,800,1000,2000,3500,5000])\n",
    "y1 = np.zeros_like(x1,dtype=float)\n",
    "\n",
    "for j in range(x1.shape[0]):\n",
    "    z1 = np.zeros(1000, dtype = float)\n",
    "    for i in tqdm(range(1000)):\n",
    "        ds = Est(k,n,x1[j])\n",
    "        z1[i] = geodesicDistance(I, ds, k)\n",
    "    y1[j] = np.mean(z1)\n",
    "    \n",
    "print(x1)\n",
    "print(y1)\n",
    "plt.plot(x1,y1)\n",
    "plt.show()"
   ]
  },
  {
   "cell_type": "code",
   "execution_count": 35,
   "metadata": {},
   "outputs": [
    {
     "data": {
      "application/vnd.jupyter.widget-view+json": {
       "model_id": "ab0cbe4ead004954af1661eda25d2132",
       "version_major": 2,
       "version_minor": 0
      },
      "text/plain": [
       "  0%|          | 0/1000 [00:00<?, ?it/s]"
      ]
     },
     "metadata": {},
     "output_type": "display_data"
    },
    {
     "data": {
      "application/vnd.jupyter.widget-view+json": {
       "model_id": "23e326300a414fb698a20007a1c72666",
       "version_major": 2,
       "version_minor": 0
      },
      "text/plain": [
       "  0%|          | 0/1000 [00:00<?, ?it/s]"
      ]
     },
     "metadata": {},
     "output_type": "display_data"
    },
    {
     "data": {
      "application/vnd.jupyter.widget-view+json": {
       "model_id": "ac91cdfe399147f99bd8fe946b08d847",
       "version_major": 2,
       "version_minor": 0
      },
      "text/plain": [
       "  0%|          | 0/1000 [00:00<?, ?it/s]"
      ]
     },
     "metadata": {},
     "output_type": "display_data"
    },
    {
     "data": {
      "application/vnd.jupyter.widget-view+json": {
       "model_id": "d2b2a81a8fa04935981dc8fef5d8c78d",
       "version_major": 2,
       "version_minor": 0
      },
      "text/plain": [
       "  0%|          | 0/1000 [00:00<?, ?it/s]"
      ]
     },
     "metadata": {},
     "output_type": "display_data"
    },
    {
     "data": {
      "application/vnd.jupyter.widget-view+json": {
       "model_id": "e50ae94f576c4d1bbb08d66d218f8330",
       "version_major": 2,
       "version_minor": 0
      },
      "text/plain": [
       "  0%|          | 0/1000 [00:00<?, ?it/s]"
      ]
     },
     "metadata": {},
     "output_type": "display_data"
    },
    {
     "data": {
      "application/vnd.jupyter.widget-view+json": {
       "model_id": "5cc563ec3a5b42998563671c1c183c0e",
       "version_major": 2,
       "version_minor": 0
      },
      "text/plain": [
       "  0%|          | 0/1000 [00:00<?, ?it/s]"
      ]
     },
     "metadata": {},
     "output_type": "display_data"
    },
    {
     "data": {
      "application/vnd.jupyter.widget-view+json": {
       "model_id": "ba81973afc4c4185a3adaccbc8019dd5",
       "version_major": 2,
       "version_minor": 0
      },
      "text/plain": [
       "  0%|          | 0/1000 [00:00<?, ?it/s]"
      ]
     },
     "metadata": {},
     "output_type": "display_data"
    },
    {
     "data": {
      "application/vnd.jupyter.widget-view+json": {
       "model_id": "085f59a57a094265875b7c6867a3d354",
       "version_major": 2,
       "version_minor": 0
      },
      "text/plain": [
       "  0%|          | 0/1000 [00:00<?, ?it/s]"
      ]
     },
     "metadata": {},
     "output_type": "display_data"
    },
    {
     "name": "stdout",
     "output_type": "stream",
     "text": [
      "[ 100  200  500  800 1000 2000 3500 5000]\n",
      "[1.33347678 1.27411599 1.21397942 1.16491236 1.14217529 1.08769442\n",
      " 1.03642659 1.00331359]\n"
     ]
    },
    {
     "data": {
      "image/png": "[encoded data removed]",
      "text/plain": [
       "<Figure size 432x288 with 1 Axes>"
      ]
     },
     "metadata": {
      "needs_background": "light"
     },
     "output_type": "display_data"
    }
   ],
   "source": [
    "x1 = np.array([100,200,500,800,1000,2000,3500,5000])\n",
    "y1 = np.zeros_like(x1,dtype=float)\n",
    "\n",
    "for j in range(x1.shape[0]):\n",
    "    z1 = np.zeros(1000, dtype = float)\n",
    "    for i in tqdm(range(1000)):\n",
    "        ds = Est_ln(k,n,x1[j],mu, sigma)\n",
    "        z1[i] = geodesicDistance(I, ds, k)\n",
    "    y1[j] = np.mean(z1)\n",
    "    \n",
    "print(x1)\n",
    "print(y1)\n",
    "plt.plot(x1,y1)\n",
    "plt.show()"
   ]
  },
  {
   "cell_type": "markdown",
   "metadata": {},
   "source": [
    "## Rivised simulation on Haar distribution "
   ]
  },
  {
   "cell_type": "code",
   "execution_count": 16,
   "metadata": {},
   "outputs": [],
   "source": [
    "from scipy.stats import ortho_group\n",
    "# x = ortho_group.rvs(3)\n",
    "\n",
    "def Est_rev(k,n,m):\n",
    "    Vlist = []\n",
    "    for i in range(m):\n",
    "        V0 = ortho_group.rvs(n)\n",
    "        Vlist.append(V0)\n",
    "    \n",
    "    result = Recursive_FM(k,n,Vlist,m)\n",
    "    return result.iFM()"
   ]
  },
  {
   "cell_type": "code",
   "execution_count": 17,
   "metadata": {},
   "outputs": [
    {
     "data": {
      "application/vnd.jupyter.widget-view+json": {
       "model_id": "95e69fc512094c468e0d41a47fd1a164",
       "version_major": 2,
       "version_minor": 0
      },
      "text/plain": [
       "  0%|          | 0/1000 [00:00<?, ?it/s]"
      ]
     },
     "metadata": {},
     "output_type": "display_data"
    },
    {
     "data": {
      "application/vnd.jupyter.widget-view+json": {
       "model_id": "ca9236ed9066466eaaa5572e6425e238",
       "version_major": 2,
       "version_minor": 0
      },
      "text/plain": [
       "  0%|          | 0/1000 [00:00<?, ?it/s]"
      ]
     },
     "metadata": {},
     "output_type": "display_data"
    },
    {
     "data": {
      "application/vnd.jupyter.widget-view+json": {
       "model_id": "e2cc709ac5a0424ca543ab1bee052112",
       "version_major": 2,
       "version_minor": 0
      },
      "text/plain": [
       "  0%|          | 0/1000 [00:00<?, ?it/s]"
      ]
     },
     "metadata": {},
     "output_type": "display_data"
    },
    {
     "data": {
      "application/vnd.jupyter.widget-view+json": {
       "model_id": "db0bea56a47942e0bd4de32e4829afe6",
       "version_major": 2,
       "version_minor": 0
      },
      "text/plain": [
       "  0%|          | 0/1000 [00:00<?, ?it/s]"
      ]
     },
     "metadata": {},
     "output_type": "display_data"
    },
    {
     "data": {
      "application/vnd.jupyter.widget-view+json": {
       "model_id": "9ed06e5ba7f14253b2ede5ff213cd582",
       "version_major": 2,
       "version_minor": 0
      },
      "text/plain": [
       "  0%|          | 0/1000 [00:00<?, ?it/s]"
      ]
     },
     "metadata": {},
     "output_type": "display_data"
    },
    {
     "data": {
      "application/vnd.jupyter.widget-view+json": {
       "model_id": "2ea610d905f047feb16d89cc8d6660d3",
       "version_major": 2,
       "version_minor": 0
      },
      "text/plain": [
       "  0%|          | 0/1000 [00:00<?, ?it/s]"
      ]
     },
     "metadata": {},
     "output_type": "display_data"
    },
    {
     "data": {
      "application/vnd.jupyter.widget-view+json": {
       "model_id": "a5c8c8a7daa54e759a96ca90823bfa87",
       "version_major": 2,
       "version_minor": 0
      },
      "text/plain": [
       "  0%|          | 0/1000 [00:00<?, ?it/s]"
      ]
     },
     "metadata": {},
     "output_type": "display_data"
    },
    {
     "data": {
      "application/vnd.jupyter.widget-view+json": {
       "model_id": "af00c9997c1c41498fd3195f6d18779a",
       "version_major": 2,
       "version_minor": 0
      },
      "text/plain": [
       "  0%|          | 0/1000 [00:00<?, ?it/s]"
      ]
     },
     "metadata": {},
     "output_type": "display_data"
    },
    {
     "name": "stdout",
     "output_type": "stream",
     "text": [
      "[ 100  200  500  800 1000 2000 3500 5000]\n",
      "[1.65426219 1.64451696 1.64880449 1.65570115 1.66021336 1.66726099\n",
      " 1.64831261 1.65959673]\n"
     ]
    },
    {
     "data": {
      "image/png": "[encoded data removed]",
      "text/plain": [
       "<Figure size 432x288 with 1 Axes>"
      ]
     },
     "metadata": {
      "needs_background": "light"
     },
     "output_type": "display_data"
    }
   ],
   "source": [
    "k = 2\n",
    "n = 9\n",
    "m = 100\n",
    "\n",
    "# Vlist = []\n",
    "# Qlist = []\n",
    "\n",
    "I_ = np.block([[np.eye(k), np.zeros((k, n-k))],\n",
    "                       [np.zeros((n-k, k)),-np.eye(n-k)]])\n",
    "I = np.eye(n)\n",
    "\n",
    "x2 = np.array([100,200,500,800,1000,2000,3500,5000])\n",
    "y2 = np.zeros_like(x1,dtype=float)\n",
    "\n",
    "for j in range(x2.shape[0]):\n",
    "    z2 = np.zeros(1000, dtype = float)\n",
    "    for i in tqdm(range(1000)):\n",
    "        ds = Est_rev(k,n,x2[j])\n",
    "        z2[i] = geodesicDistance(I, ds, k)\n",
    "    y2[j] = np.mean(z2)\n",
    "    \n",
    "print(x2)\n",
    "print(y2)\n",
    "plt.plot(x2,y2)\n",
    "plt.show()"
   ]
  },
  {
   "cell_type": "markdown",
   "metadata": {},
   "source": [
    "# Sturm Algorithm"
   ]
  },
  {
   "cell_type": "code",
   "execution_count": 17,
   "metadata": {},
   "outputs": [],
   "source": [
    "class Recursive_FM_Sturm:\n",
    "    def __init__(self, dimension1, dimension2, Vlist, K, N, tol):\n",
    "        self._k = dimension1\n",
    "        self._n = dimension2\n",
    "        self._Vlist = Vlist\n",
    "        self._len = len(Vlist)\n",
    "        self._ite = K\n",
    "        self._N = N\n",
    "        self._tolerence = tol\n",
    "        \n",
    "    def getTrans(self,k,n):\n",
    "        A = np.eye(n)\n",
    "        B = np.eye(n)\n",
    "        for i in range(k):\n",
    "            B[k+i,] = A[n-k+i,]\n",
    "            B[n-k+i,] = A[k+i,]\n",
    "        return B\n",
    "    \n",
    "    def csDecomp(self,S, k):\n",
    "        u,cs,vdh = cossin(S, p = k, q = k, swap_sign = True)\n",
    "        n = S.shape[0]\n",
    "        T = self.getTrans(k,n)\n",
    "        u = u@T\n",
    "        cs = T@cs@T\n",
    "        vdh = T@vdh\n",
    "        return u,cs,vdh\n",
    "        \n",
    "    def geodesic(self,X,Y,t):\n",
    "        U,CS,VDH = self.csDecomp(X.T.dot(Y), self._k)\n",
    "        Theta = np.diag(np.arccos(np.diag(CS[:self._k,:self._k])))\n",
    "        UU = U[:self._k, :self._k]\n",
    "        VV = U[self._k:,self._k:]\n",
    "        B = -2*UU@np.block([Theta, np.zeros((self._k, self._n - 2*self._k))])@VV.T\n",
    "        Z = X@expm(t/2*np.block([[np.zeros((self._k,self._k)),-B],[B.T,np.zeros((self._n-self._k,self._n-self._k))]]))\n",
    "        return Z\n",
    "    \n",
    "    def geodesicDistance(self,X,Y,k):\n",
    "        u,cs,vdh = csDecomp(X.T.dot(Y),k)\n",
    "        return np.linalg.norm(np.arccos(np.diag(cs[:k,:k])))\n",
    "    \n",
    "    def maxDistance(self, List, k):\n",
    "        length = len(List)\n",
    "        combs = comb(length,2)\n",
    "        distances = np.zeros(int(combs))\n",
    "        all_combs = list(list(combinations(range(length),2)))\n",
    "        for j in range(int(combs)):\n",
    "            distances[k] = self.geodesicDistance(List[all_combs[j][0]],List[all_combs[j][1]],k)\n",
    "        return np.max(distances)\n",
    "        \n",
    "    def iFM(self):\n",
    "        index = random.randint(0,self._len-1)\n",
    "        mean = [None] * (self._N)\n",
    "        mean[0] = self._Vlist[index]\n",
    "        count = 0\n",
    "        while True:\n",
    "            if count > self._ite:\n",
    "                if self.maxDistance(mean,self._k) < self._tolerence:\n",
    "                    break\n",
    "            mean[1:] = mean[:-1]\n",
    "            mean[0] = self.geodesic(mean[0], self._Vlist[random.randint(0,self._len-1)], 1/(count+2))\n",
    "            count += 1\n",
    "        return mean[0]"
   ]
  },
  {
   "cell_type": "markdown",
   "metadata": {},
   "source": [
    "## On Haar distribution"
   ]
  },
  {
   "cell_type": "markdown",
   "metadata": {},
   "source": [
    "Sample generation function "
   ]
  },
  {
   "cell_type": "code",
   "execution_count": 18,
   "metadata": {},
   "outputs": [],
   "source": [
    "def Est_Sturm(k,n,m):\n",
    "    Vlist = []\n",
    "    for i in range(m):\n",
    "        V0 = Haar(n)\n",
    "        Vlist.append(V0)\n",
    "    \n",
    "    result = Recursive_FM_Sturm(k,n,Vlist,1e6,5,1e-5)\n",
    "    return result.iFM()"
   ]
  },
  {
   "cell_type": "markdown",
   "metadata": {},
   "source": [
    "Parameter Setup"
   ]
  },
  {
   "cell_type": "code",
   "execution_count": 19,
   "metadata": {},
   "outputs": [],
   "source": [
    "k = 2\n",
    "n = 9\n",
    "\n",
    "I = np.eye(n)"
   ]
  },
  {
   "cell_type": "markdown",
   "metadata": {},
   "source": [
    "Case 3 "
   ]
  },
  {
   "cell_type": "markdown",
   "metadata": {},
   "source": [
    "x1 = np.array([100,200,500,800,1000,2000,3500,5000])\n",
    "y1 = np.zeros_like(x1,dtype=float)\n",
    "\n",
    "for j in range(x1.shape[0]):\n",
    "    ds = Est_Sturm(k,n,x1[j])\n",
    "    y1[j] = geodesicDistance(I, ds, k)\n",
    "    \n",
    "print(x1)\n",
    "print(y1)\n",
    "plt.plot(x1,y1)\n",
    "plt.show()"
   ]
  },
  {
   "cell_type": "code",
   "execution_count": 21,
   "metadata": {},
   "outputs": [
    {
     "data": {
      "application/vnd.jupyter.widget-view+json": {
       "model_id": "b22cb342511348be947171752bdd18f5",
       "version_major": 2,
       "version_minor": 0
      },
      "text/plain": [
       "  0%|          | 0/10 [00:00<?, ?it/s]"
      ]
     },
     "metadata": {},
     "output_type": "display_data"
    },
    {
     "data": {
      "application/vnd.jupyter.widget-view+json": {
       "model_id": "054e49cbc214413ebd3422a290d30588",
       "version_major": 2,
       "version_minor": 0
      },
      "text/plain": [
       "  0%|          | 0/10 [00:00<?, ?it/s]"
      ]
     },
     "metadata": {},
     "output_type": "display_data"
    },
    {
     "data": {
      "application/vnd.jupyter.widget-view+json": {
       "model_id": "85b0f378dfa243bbaeafdbcb3219e4ad",
       "version_major": 2,
       "version_minor": 0
      },
      "text/plain": [
       "  0%|          | 0/10 [00:00<?, ?it/s]"
      ]
     },
     "metadata": {},
     "output_type": "display_data"
    },
    {
     "data": {
      "application/vnd.jupyter.widget-view+json": {
       "model_id": "6e4668229f77465688e640cdd89fd8d3",
       "version_major": 2,
       "version_minor": 0
      },
      "text/plain": [
       "  0%|          | 0/10 [00:00<?, ?it/s]"
      ]
     },
     "metadata": {},
     "output_type": "display_data"
    },
    {
     "data": {
      "application/vnd.jupyter.widget-view+json": {
       "model_id": "3a3f3fe00a5e4682a5a9b099fd641f37",
       "version_major": 2,
       "version_minor": 0
      },
      "text/plain": [
       "  0%|          | 0/10 [00:00<?, ?it/s]"
      ]
     },
     "metadata": {},
     "output_type": "display_data"
    },
    {
     "data": {
      "application/vnd.jupyter.widget-view+json": {
       "model_id": "554baf810ee641f2927eefff0b9c175b",
       "version_major": 2,
       "version_minor": 0
      },
      "text/plain": [
       "  0%|          | 0/10 [00:00<?, ?it/s]"
      ]
     },
     "metadata": {},
     "output_type": "display_data"
    },
    {
     "data": {
      "application/vnd.jupyter.widget-view+json": {
       "model_id": "3746fd14b5bc478db664bc5e3f5ca357",
       "version_major": 2,
       "version_minor": 0
      },
      "text/plain": [
       "  0%|          | 0/10 [00:00<?, ?it/s]"
      ]
     },
     "metadata": {},
     "output_type": "display_data"
    },
    {
     "data": {
      "application/vnd.jupyter.widget-view+json": {
       "model_id": "b38a23ef7c29466b8da77ca8326ce136",
       "version_major": 2,
       "version_minor": 0
      },
      "text/plain": [
       "  0%|          | 0/10 [00:00<?, ?it/s]"
      ]
     },
     "metadata": {},
     "output_type": "display_data"
    },
    {
     "name": "stdout",
     "output_type": "stream",
     "text": [
      "[ 100  200  500  800 1000 2000 3500 5000]\n",
      "[1.45490395 1.67373896 1.66719947 1.67840451 1.67811444 1.62288553\n",
      " 1.65402812 1.64595969]\n"
     ]
    },
    {
     "data": {
      "image/png": "[encoded data removed]",
      "text/plain": [
       "<Figure size 432x288 with 1 Axes>"
      ]
     },
     "metadata": {
      "needs_background": "light"
     },
     "output_type": "display_data"
    }
   ],
   "source": [
    "# With Replicates\n",
    "\n",
    "x1 = np.array([100,200,500,800,1000,2000,3500,5000])\n",
    "y1 = np.zeros_like(x1,dtype=float)\n",
    "\n",
    "for j in range(x1.shape[0]):\n",
    "    z1 = np.zeros(10, dtype = float)\n",
    "    for i in tqdm(range(10)):\n",
    "        ds = Est_Sturm(k,n,x1[j])\n",
    "        z1[i] = geodesicDistance(I, ds, k)\n",
    "    y1[j] = np.mean(z1)\n",
    "    \n",
    "\n",
    "print(x1)\n",
    "print(y1)\n",
    "plt.plot(x1,y1)\n",
    "plt.show()"
   ]
  },
  {
   "cell_type": "markdown",
   "metadata": {},
   "source": [
    "## On log-normal distribution"
   ]
  },
  {
   "cell_type": "markdown",
   "metadata": {},
   "source": [
    "Samples generation function"
   ]
  },
  {
   "cell_type": "code",
   "execution_count": 20,
   "metadata": {},
   "outputs": [],
   "source": [
    "def Est_Sturm_ln(k,n,m,mu,sigma):\n",
    "    Vlist = []\n",
    "    for i in range(m):\n",
    "        V0 = log_normal(n, mu, sigma)\n",
    "        Vlist.append(V0)\n",
    "    \n",
    "    result = Recursive_FM_Sturm(k,n,Vlist,1e6,5,1e-5)\n",
    "    return result.iFM()"
   ]
  },
  {
   "cell_type": "markdown",
   "metadata": {},
   "source": [
    "Parameter Setup"
   ]
  },
  {
   "cell_type": "code",
   "execution_count": 21,
   "metadata": {},
   "outputs": [],
   "source": [
    "k = 2\n",
    "n = 9\n",
    "mu = np.eye(n)\n",
    "sigma = 1.0"
   ]
  },
  {
   "cell_type": "markdown",
   "metadata": {},
   "source": [
    "Case 3"
   ]
  },
  {
   "cell_type": "code",
   "execution_count": 18,
   "metadata": {},
   "outputs": [
    {
     "name": "stdout",
     "output_type": "stream",
     "text": [
      "[ 100  200  500  800 1000 2000 3500 5000]\n",
      "[1.51020899 1.4966193  0.28517141 0.48958707 0.52595016 0.35751036\n",
      " 0.73859382 0.83581338]\n"
     ]
    },
    {
     "data": {
      "image/png": "[encoded data removed]",
      "text/plain": [
       "<Figure size 432x288 with 1 Axes>"
      ]
     },
     "metadata": {
      "needs_background": "light"
     },
     "output_type": "display_data"
    }
   ],
   "source": [
    "x1 = np.array([100,200,500,800,1000,2000,3500,5000])\n",
    "y1 = np.zeros_like(x1,dtype=float)\n",
    "\n",
    "for j in range(x1.shape[0]):\n",
    "    ds = Est_Sturm_ln(k,n,x1[j],mu, sigma)\n",
    "    y1[j] = geodesicDistance(I, ds, k)\n",
    "    \n",
    "print(x1)\n",
    "print(y1)\n",
    "plt.plot(x1,y1)\n",
    "plt.show()"
   ]
  },
  {
   "cell_type": "code",
   "execution_count": 23,
   "metadata": {},
   "outputs": [
    {
     "data": {
      "application/vnd.jupyter.widget-view+json": {
       "model_id": "83bf4d3ab946444689a479db0f9bd1ec",
       "version_major": 2,
       "version_minor": 0
      },
      "text/plain": [
       "  0%|          | 0/10 [00:00<?, ?it/s]"
      ]
     },
     "metadata": {},
     "output_type": "display_data"
    },
    {
     "data": {
      "application/vnd.jupyter.widget-view+json": {
       "model_id": "87c344c3f455403faa146d08cd9ce4fe",
       "version_major": 2,
       "version_minor": 0
      },
      "text/plain": [
       "  0%|          | 0/10 [00:00<?, ?it/s]"
      ]
     },
     "metadata": {},
     "output_type": "display_data"
    },
    {
     "data": {
      "application/vnd.jupyter.widget-view+json": {
       "model_id": "ef3892523e7a43fc852d00bc93c38c30",
       "version_major": 2,
       "version_minor": 0
      },
      "text/plain": [
       "  0%|          | 0/10 [00:00<?, ?it/s]"
      ]
     },
     "metadata": {},
     "output_type": "display_data"
    },
    {
     "data": {
      "application/vnd.jupyter.widget-view+json": {
       "model_id": "4fa8d0c03f874310994c31602708ed86",
       "version_major": 2,
       "version_minor": 0
      },
      "text/plain": [
       "  0%|          | 0/10 [00:00<?, ?it/s]"
      ]
     },
     "metadata": {},
     "output_type": "display_data"
    },
    {
     "data": {
      "application/vnd.jupyter.widget-view+json": {
       "model_id": "00008d875dbf4a9e925413eb878afbed",
       "version_major": 2,
       "version_minor": 0
      },
      "text/plain": [
       "  0%|          | 0/10 [00:00<?, ?it/s]"
      ]
     },
     "metadata": {},
     "output_type": "display_data"
    },
    {
     "data": {
      "application/vnd.jupyter.widget-view+json": {
       "model_id": "631e1c26c345446dae1829523efb4fbd",
       "version_major": 2,
       "version_minor": 0
      },
      "text/plain": [
       "  0%|          | 0/10 [00:00<?, ?it/s]"
      ]
     },
     "metadata": {},
     "output_type": "display_data"
    },
    {
     "data": {
      "application/vnd.jupyter.widget-view+json": {
       "model_id": "ea983460d42641d0a5b1fd71afdf2be4",
       "version_major": 2,
       "version_minor": 0
      },
      "text/plain": [
       "  0%|          | 0/10 [00:00<?, ?it/s]"
      ]
     },
     "metadata": {},
     "output_type": "display_data"
    },
    {
     "data": {
      "application/vnd.jupyter.widget-view+json": {
       "model_id": "04e12c09d1b846d08e35051e47d782c7",
       "version_major": 2,
       "version_minor": 0
      },
      "text/plain": [
       "  0%|          | 0/10 [00:00<?, ?it/s]"
      ]
     },
     "metadata": {},
     "output_type": "display_data"
    },
    {
     "name": "stdout",
     "output_type": "stream",
     "text": [
      "[ 100  200  500  800 1000 2000 3500 5000]\n",
      "[1.05620355 0.91755593 0.97159968 0.70897545 0.78031519 0.52376019\n",
      " 0.54509366 0.67698689]\n"
     ]
    },
    {
     "data": {
      "image/png": "[encoded data removed]",
      "text/plain": [
       "<Figure size 432x288 with 1 Axes>"
      ]
     },
     "metadata": {
      "needs_background": "light"
     },
     "output_type": "display_data"
    }
   ],
   "source": [
    "# With Replicates\n",
    "\n",
    "x1 = np.array([100,200,500,800,1000,2000,3500,5000])\n",
    "y1 = np.zeros_like(x1,dtype=float)\n",
    "\n",
    "for j in range(x1.shape[0]):\n",
    "    z1 = np.zeros(10, dtype = float)\n",
    "    for i in tqdm(range(10)):\n",
    "        ds = Est_Sturm_ln(k,n,x1[j],mu, sigma)\n",
    "        z1[i] = geodesicDistance(I, ds, k)\n",
    "    y1[j] = np.mean(z1)\n",
    "    \n",
    "print(x1)\n",
    "print(y1)\n",
    "plt.plot(x1,y1)\n",
    "plt.show()"
   ]
  },
  {
   "cell_type": "code",
   "execution_count": 27,
   "metadata": {},
   "outputs": [
    {
     "data": {
      "text/plain": [
       "2.0925487021062166"
      ]
     },
     "execution_count": 27,
     "metadata": {},
     "output_type": "execute_result"
    }
   ],
   "source": [
    "aa = Haar(9)\n",
    "geodesicDista   nce(aa,I,3)"
   ]
  },
  {
   "cell_type": "markdown",
   "metadata": {},
   "source": [
    "## Replicate"
   ]
  },
  {
   "cell_type": "code",
   "execution_count": 14,
   "metadata": {},
   "outputs": [
    {
     "data": {
      "application/vnd.jupyter.widget-view+json": {
       "model_id": "fa0c3ca8abf74d5a91c6265f83826f04",
       "version_major": 2,
       "version_minor": 0
      },
      "text/plain": [
       "  0%|          | 0/10 [00:00<?, ?it/s]"
      ]
     },
     "metadata": {},
     "output_type": "display_data"
    },
    {
     "data": {
      "application/vnd.jupyter.widget-view+json": {
       "model_id": "1d8992728e604fc8983dbe16a196c74b",
       "version_major": 2,
       "version_minor": 0
      },
      "text/plain": [
       "  0%|          | 0/10 [00:00<?, ?it/s]"
      ]
     },
     "metadata": {},
     "output_type": "display_data"
    },
    {
     "data": {
      "application/vnd.jupyter.widget-view+json": {
       "model_id": "0a3590e2611a467ab0e43d3cf3479feb",
       "version_major": 2,
       "version_minor": 0
      },
      "text/plain": [
       "  0%|          | 0/10 [00:00<?, ?it/s]"
      ]
     },
     "metadata": {},
     "output_type": "display_data"
    },
    {
     "data": {
      "application/vnd.jupyter.widget-view+json": {
       "model_id": "a486029e065e42c1b8c9391bdecb2d37",
       "version_major": 2,
       "version_minor": 0
      },
      "text/plain": [
       "  0%|          | 0/10 [00:00<?, ?it/s]"
      ]
     },
     "metadata": {},
     "output_type": "display_data"
    },
    {
     "data": {
      "application/vnd.jupyter.widget-view+json": {
       "model_id": "0c6e9ce1cb5f4c7fa3f0275a8f73235e",
       "version_major": 2,
       "version_minor": 0
      },
      "text/plain": [
       "  0%|          | 0/10 [00:00<?, ?it/s]"
      ]
     },
     "metadata": {},
     "output_type": "display_data"
    },
    {
     "data": {
      "application/vnd.jupyter.widget-view+json": {
       "model_id": "8230527811ba4908944e296242ea7ef7",
       "version_major": 2,
       "version_minor": 0
      },
      "text/plain": [
       "  0%|          | 0/10 [00:00<?, ?it/s]"
      ]
     },
     "metadata": {},
     "output_type": "display_data"
    },
    {
     "data": {
      "application/vnd.jupyter.widget-view+json": {
       "model_id": "3dc1e0e18d4e44c2a5fde395e813a529",
       "version_major": 2,
       "version_minor": 0
      },
      "text/plain": [
       "  0%|          | 0/10 [00:00<?, ?it/s]"
      ]
     },
     "metadata": {},
     "output_type": "display_data"
    },
    {
     "data": {
      "application/vnd.jupyter.widget-view+json": {
       "model_id": "aa2a170192dd4f9fa8b95838050e2362",
       "version_major": 2,
       "version_minor": 0
      },
      "text/plain": [
       "  0%|          | 0/10 [00:00<?, ?it/s]"
      ]
     },
     "metadata": {},
     "output_type": "display_data"
    },
    {
     "name": "stdout",
     "output_type": "stream",
     "text": [
      "[ 100  200  500  800 1000 2000 3500 5000]\n",
      "[1.59757584 1.66477893 1.6795935  1.68515887 1.64535075 1.5003879\n",
      " 1.68445915 1.68170003]\n"
     ]
    },
    {
     "data": {
      "image/png": "[encoded data removed]",
      "text/plain": [
       "<Figure size 432x288 with 1 Axes>"
      ]
     },
     "metadata": {
      "needs_background": "light"
     },
     "output_type": "display_data"
    }
   ],
   "source": [
    "# With Replicates (Haar)\n",
    "\n",
    "x1 = np.array([100,200,500,800,1000,2000,3500,5000])\n",
    "y1 = np.zeros_like(x1,dtype=float)\n",
    "\n",
    "for j in range(x1.shape[0]):\n",
    "    z1 = np.zeros(10, dtype = float)\n",
    "    for i in tqdm(range(10)):\n",
    "        ds = Est_Sturm(k,n,x1[j])\n",
    "        z1[i] = geodesicDistance(I, ds, k)\n",
    "    y1[j] = np.mean(z1)\n",
    "    \n",
    "\n",
    "print(x1)\n",
    "print(y1)\n",
    "plt.plot(x1,y1)\n",
    "plt.show()"
   ]
  },
  {
   "cell_type": "code",
   "execution_count": 15,
   "metadata": {},
   "outputs": [
    {
     "data": {
      "application/vnd.jupyter.widget-view+json": {
       "model_id": "1368264c1fe440a38b7deb2cd5a5e0f7",
       "version_major": 2,
       "version_minor": 0
      },
      "text/plain": [
       "  0%|          | 0/10 [00:00<?, ?it/s]"
      ]
     },
     "metadata": {},
     "output_type": "display_data"
    },
    {
     "data": {
      "application/vnd.jupyter.widget-view+json": {
       "model_id": "d592798cf14e41338d0d441c28c17178",
       "version_major": 2,
       "version_minor": 0
      },
      "text/plain": [
       "  0%|          | 0/10 [00:00<?, ?it/s]"
      ]
     },
     "metadata": {},
     "output_type": "display_data"
    },
    {
     "data": {
      "application/vnd.jupyter.widget-view+json": {
       "model_id": "a9c89d5f159c46e2b4c24aa5995ee1ad",
       "version_major": 2,
       "version_minor": 0
      },
      "text/plain": [
       "  0%|          | 0/10 [00:00<?, ?it/s]"
      ]
     },
     "metadata": {},
     "output_type": "display_data"
    },
    {
     "data": {
      "application/vnd.jupyter.widget-view+json": {
       "model_id": "cbefd180f9194c07bedbb15bc363083e",
       "version_major": 2,
       "version_minor": 0
      },
      "text/plain": [
       "  0%|          | 0/10 [00:00<?, ?it/s]"
      ]
     },
     "metadata": {},
     "output_type": "display_data"
    },
    {
     "data": {
      "application/vnd.jupyter.widget-view+json": {
       "model_id": "e5febd21cec04a9bae4f0efe2e9a6eb0",
       "version_major": 2,
       "version_minor": 0
      },
      "text/plain": [
       "  0%|          | 0/10 [00:00<?, ?it/s]"
      ]
     },
     "metadata": {},
     "output_type": "display_data"
    },
    {
     "data": {
      "application/vnd.jupyter.widget-view+json": {
       "model_id": "4c272f4f59f5431aa9132674d9d1be4d",
       "version_major": 2,
       "version_minor": 0
      },
      "text/plain": [
       "  0%|          | 0/10 [00:00<?, ?it/s]"
      ]
     },
     "metadata": {},
     "output_type": "display_data"
    },
    {
     "data": {
      "application/vnd.jupyter.widget-view+json": {
       "model_id": "c043f1fca8964c35b5d2da2fa11519e1",
       "version_major": 2,
       "version_minor": 0
      },
      "text/plain": [
       "  0%|          | 0/10 [00:00<?, ?it/s]"
      ]
     },
     "metadata": {},
     "output_type": "display_data"
    },
    {
     "data": {
      "application/vnd.jupyter.widget-view+json": {
       "model_id": "9b088f941db241e9b5317e4f4b6d062b",
       "version_major": 2,
       "version_minor": 0
      },
      "text/plain": [
       "  0%|          | 0/10 [00:00<?, ?it/s]"
      ]
     },
     "metadata": {},
     "output_type": "display_data"
    },
    {
     "name": "stdout",
     "output_type": "stream",
     "text": [
      "[ 100  200  500  800 1000 2000 3500 5000]\n",
      "[1.16342096 1.26454569 0.89289459 0.77799705 0.70844815 0.67076047\n",
      " 0.66289726 0.65513459]\n"
     ]
    },
    {
     "data": {
      "image/png": "[encoded data removed]",
      "text/plain": [
       "<Figure size 432x288 with 1 Axes>"
      ]
     },
     "metadata": {
      "needs_background": "light"
     },
     "output_type": "display_data"
    }
   ],
   "source": [
    "# With Replicates (log-normal)\n",
    "\n",
    "x1 = np.array([100,200,500,800,1000,2000,3500,5000])\n",
    "y1 = np.zeros_like(x1,dtype=float)\n",
    "\n",
    "for j in range(x1.shape[0]):\n",
    "    z1 = np.zeros(10, dtype = float)\n",
    "    for i in tqdm(range(10)):\n",
    "        ds = Est_Sturm_ln(k,n,x1[j],mu, sigma)\n",
    "        z1[i] = geodesicDistance(I, ds, k)\n",
    "    y1[j] = np.mean(z1)\n",
    "    \n",
    "print(x1)\n",
    "print(y1)\n",
    "plt.plot(x1,y1)\n",
    "plt.show()"
   ]
  },
  {
   "cell_type": "markdown",
   "metadata": {},
   "source": [
    "## Revised simulation on Haar distribution"
   ]
  },
  {
   "cell_type": "code",
   "execution_count": 22,
   "metadata": {},
   "outputs": [],
   "source": [
    "def Est_Sturm_rev(k,n,m):\n",
    "    Vlist = []\n",
    "    for i in range(m):\n",
    "        V0 = ortho_group.rvs(n)\n",
    "        Vlist.append(V0)\n",
    "    \n",
    "    result = Recursive_FM_Sturm(k,n,Vlist,1e6,5,1e-5)\n",
    "    return result.iFM()"
   ]
  },
  {
   "cell_type": "code",
   "execution_count": 23,
   "metadata": {},
   "outputs": [],
   "source": [
    "k = 2\n",
    "n = 9\n",
    "\n",
    "I = np.eye(n)"
   ]
  },
  {
   "cell_type": "code",
   "execution_count": 26,
   "metadata": {},
   "outputs": [
    {
     "data": {
      "application/vnd.jupyter.widget-view+json": {
       "model_id": "25a9f6ee1b3b4e06a4b271958f4ff383",
       "version_major": 2,
       "version_minor": 0
      },
      "text/plain": [
       "  0%|          | 0/10 [00:00<?, ?it/s]"
      ]
     },
     "metadata": {},
     "output_type": "display_data"
    },
    {
     "data": {
      "application/vnd.jupyter.widget-view+json": {
       "model_id": "f08776c7e2ea45aeac861368be45a08b",
       "version_major": 2,
       "version_minor": 0
      },
      "text/plain": [
       "  0%|          | 0/10 [00:00<?, ?it/s]"
      ]
     },
     "metadata": {},
     "output_type": "display_data"
    },
    {
     "data": {
      "application/vnd.jupyter.widget-view+json": {
       "model_id": "48c34819f8d7414abc3a1fb62e0c7d00",
       "version_major": 2,
       "version_minor": 0
      },
      "text/plain": [
       "  0%|          | 0/10 [00:00<?, ?it/s]"
      ]
     },
     "metadata": {},
     "output_type": "display_data"
    },
    {
     "data": {
      "application/vnd.jupyter.widget-view+json": {
       "model_id": "4a5a9cdf557d475dac8b2ba243c4fd34",
       "version_major": 2,
       "version_minor": 0
      },
      "text/plain": [
       "  0%|          | 0/10 [00:00<?, ?it/s]"
      ]
     },
     "metadata": {},
     "output_type": "display_data"
    },
    {
     "data": {
      "application/vnd.jupyter.widget-view+json": {
       "model_id": "bcb1186a8a4f403b97dc985dd61667ce",
       "version_major": 2,
       "version_minor": 0
      },
      "text/plain": [
       "  0%|          | 0/10 [00:00<?, ?it/s]"
      ]
     },
     "metadata": {},
     "output_type": "display_data"
    },
    {
     "data": {
      "application/vnd.jupyter.widget-view+json": {
       "model_id": "14045544bc894f5e8f523a357e26836e",
       "version_major": 2,
       "version_minor": 0
      },
      "text/plain": [
       "  0%|          | 0/10 [00:00<?, ?it/s]"
      ]
     },
     "metadata": {},
     "output_type": "display_data"
    },
    {
     "data": {
      "application/vnd.jupyter.widget-view+json": {
       "model_id": "b58dd4369a91495baf15bd019e902817",
       "version_major": 2,
       "version_minor": 0
      },
      "text/plain": [
       "  0%|          | 0/10 [00:00<?, ?it/s]"
      ]
     },
     "metadata": {},
     "output_type": "display_data"
    },
    {
     "data": {
      "application/vnd.jupyter.widget-view+json": {
       "model_id": "8ebac194a24b47b9a60e2c33dad4196a",
       "version_major": 2,
       "version_minor": 0
      },
      "text/plain": [
       "  0%|          | 0/10 [00:00<?, ?it/s]"
      ]
     },
     "metadata": {},
     "output_type": "display_data"
    },
    {
     "name": "stdout",
     "output_type": "stream",
     "text": [
      "[ 100  200  500  800 1000 2000 3500 5000]\n",
      "[1.62255634 1.58241418 1.69124515 1.68595595 1.67872001 1.6545783\n",
      " 1.70093215 1.70556533]\n"
     ]
    },
    {
     "data": {
      "image/png": "[encoded data removed]",
      "text/plain": [
       "<Figure size 432x288 with 1 Axes>"
      ]
     },
     "metadata": {
      "needs_background": "light"
     },
     "output_type": "display_data"
    }
   ],
   "source": [
    "# With Replicates\n",
    "\n",
    "x1 = np.array([100,200,500,800,1000,2000,3500,5000])\n",
    "y1 = np.zeros_like(x1,dtype=float)\n",
    "\n",
    "for j in range(x1.shape[0]):\n",
    "    z1 = np.zeros(10, dtype = float)\n",
    "    for i in tqdm(range(10)):\n",
    "        ds = Est_Sturm_rev(k,n,x1[j])\n",
    "        z1[i] = geodesicDistance(I, ds, k)\n",
    "    y1[j] = np.mean(z1)\n",
    "    \n",
    "\n",
    "print(x1)\n",
    "print(y1)       \n",
    "plt.plot(x1,y1)\n",
    "plt.show()"
   ]
  }
 ],
 "metadata": {
  "jupytext": {
   "encoding": "# -*- coding: utf-8 -*-"
  },
  "kernelspec": {
   "display_name": "Python 3 (ipykernel)",
   "language": "python",
   "name": "python3"
  },
  "language_info": {
   "codemirror_mode": {
    "name": "ipython",
    "version": 3
   },
   "file_extension": ".py",
   "mimetype": "text/x-python",
   "name": "python",
   "nbconvert_exporter": "python",
   "pygments_lexer": "ipython3",
   "version": "3.9.7"
  },
  "toc-autonumbering": true
 },
 "nbformat": 4,
 "nbformat_minor": 4
}
